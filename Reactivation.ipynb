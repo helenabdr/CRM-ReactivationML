{
 "cells": [
  {
   "cell_type": "markdown",
   "metadata": {},
   "source": [
    "# Data Understanding"
   ]
  },
  {
   "cell_type": "markdown",
   "metadata": {},
   "source": [
    "### Import Data"
   ]
  },
  {
   "cell_type": "code",
   "execution_count": 8,
   "metadata": {},
   "outputs": [],
   "source": [
    "import numpy as np\n",
    "import matplotlib.pyplot as plt\n",
    "import pandas as pd\n",
    "import seaborn as sns\n",
    "\n",
    "client = 'TOOL_CLIENT.csv'\n",
    "sales  = 'TOOL_SALES.csv'"
   ]
  },
  {
   "cell_type": "code",
   "execution_count": 9,
   "metadata": {},
   "outputs": [
    {
     "name": "stderr",
     "output_type": "stream",
     "text": [
      "/var/folders/nr/4kkf0lts6dj62jvx76l5486h0000gn/T/ipykernel_2197/3563654711.py:2: DtypeWarning: Columns (9) have mixed types. Specify dtype option on import or set low_memory=False.\n",
      "  df_sales = pd.read_csv(sales)\n"
     ]
    },
    {
     "data": {
      "text/html": [
       "<div>\n",
       "<style scoped>\n",
       "    .dataframe tbody tr th:only-of-type {\n",
       "        vertical-align: middle;\n",
       "    }\n",
       "\n",
       "    .dataframe tbody tr th {\n",
       "        vertical-align: top;\n",
       "    }\n",
       "\n",
       "    .dataframe thead th {\n",
       "        text-align: right;\n",
       "    }\n",
       "</style>\n",
       "<table border=\"1\" class=\"dataframe\">\n",
       "  <thead>\n",
       "    <tr style=\"text-align: right;\">\n",
       "      <th></th>\n",
       "      <th>CLIENT_CREATE DATE</th>\n",
       "      <th>REGION</th>\n",
       "      <th>TRADE SECTOR</th>\n",
       "      <th>N_EMPLOYEES</th>\n",
       "      <th>ECONOMIC_POT</th>\n",
       "      <th>ECO_POT_CLASS</th>\n",
       "      <th>RISK_CAT</th>\n",
       "      <th>YYYYMM</th>\n",
       "      <th>ITEM_ID</th>\n",
       "      <th>FLG_TOOL</th>\n",
       "      <th>SALES_CHANNEL</th>\n",
       "      <th>NET</th>\n",
       "      <th>UNIT</th>\n",
       "      <th>FAMILY_CODE</th>\n",
       "      <th>GROUP_CODE</th>\n",
       "      <th>CANCELLED</th>\n",
       "    </tr>\n",
       "  </thead>\n",
       "  <tbody>\n",
       "    <tr>\n",
       "      <th>0</th>\n",
       "      <td>2005-11-15 00:00:00</td>\n",
       "      <td>BZ</td>\n",
       "      <td>11000</td>\n",
       "      <td>6</td>\n",
       "      <td>8659.81</td>\n",
       "      <td>D</td>\n",
       "      <td>3d</td>\n",
       "      <td>201709</td>\n",
       "      <td>12585</td>\n",
       "      <td>0</td>\n",
       "      <td>C</td>\n",
       "      <td>937.94</td>\n",
       "      <td>P</td>\n",
       "      <td>XBXV2EB</td>\n",
       "      <td>XBXV2EB0102</td>\n",
       "      <td>NaN</td>\n",
       "    </tr>\n",
       "    <tr>\n",
       "      <th>1</th>\n",
       "      <td>2005-11-15 00:00:00</td>\n",
       "      <td>BZ</td>\n",
       "      <td>11000</td>\n",
       "      <td>6</td>\n",
       "      <td>8659.81</td>\n",
       "      <td>D</td>\n",
       "      <td>3d</td>\n",
       "      <td>201709</td>\n",
       "      <td>13431</td>\n",
       "      <td>0</td>\n",
       "      <td>C</td>\n",
       "      <td>641.09</td>\n",
       "      <td>P</td>\n",
       "      <td>XBXV2AB</td>\n",
       "      <td>XBXV2AB0102</td>\n",
       "      <td>NaN</td>\n",
       "    </tr>\n",
       "    <tr>\n",
       "      <th>2</th>\n",
       "      <td>2005-11-15 00:00:00</td>\n",
       "      <td>BZ</td>\n",
       "      <td>11000</td>\n",
       "      <td>6</td>\n",
       "      <td>8659.81</td>\n",
       "      <td>D</td>\n",
       "      <td>3d</td>\n",
       "      <td>201709</td>\n",
       "      <td>1380</td>\n",
       "      <td>0</td>\n",
       "      <td>C</td>\n",
       "      <td>0.00</td>\n",
       "      <td>P</td>\n",
       "      <td>XBXV2EB</td>\n",
       "      <td>XBXV2EB0102</td>\n",
       "      <td>NaN</td>\n",
       "    </tr>\n",
       "    <tr>\n",
       "      <th>3</th>\n",
       "      <td>2005-11-15 00:00:00</td>\n",
       "      <td>BZ</td>\n",
       "      <td>11000</td>\n",
       "      <td>6</td>\n",
       "      <td>8659.81</td>\n",
       "      <td>D</td>\n",
       "      <td>3d</td>\n",
       "      <td>202010</td>\n",
       "      <td>3493</td>\n",
       "      <td>1</td>\n",
       "      <td>C</td>\n",
       "      <td>1341.14</td>\n",
       "      <td>P</td>\n",
       "      <td>XBXV1AF</td>\n",
       "      <td>XBXV1AF0201</td>\n",
       "      <td>NaN</td>\n",
       "    </tr>\n",
       "    <tr>\n",
       "      <th>4</th>\n",
       "      <td>2005-11-15 00:00:00</td>\n",
       "      <td>LE</td>\n",
       "      <td>15500</td>\n",
       "      <td>2</td>\n",
       "      <td>681.26</td>\n",
       "      <td>E</td>\n",
       "      <td>3d</td>\n",
       "      <td>201705</td>\n",
       "      <td>8241</td>\n",
       "      <td>0</td>\n",
       "      <td>B</td>\n",
       "      <td>64.51</td>\n",
       "      <td>P</td>\n",
       "      <td>XAES4AA</td>\n",
       "      <td>XAES4AA0101</td>\n",
       "      <td>X</td>\n",
       "    </tr>\n",
       "  </tbody>\n",
       "</table>\n",
       "</div>"
      ],
      "text/plain": [
       "    CLIENT_CREATE DATE REGION  TRADE SECTOR  N_EMPLOYEES  ECONOMIC_POT  \\\n",
       "0  2005-11-15 00:00:00     BZ         11000            6       8659.81   \n",
       "1  2005-11-15 00:00:00     BZ         11000            6       8659.81   \n",
       "2  2005-11-15 00:00:00     BZ         11000            6       8659.81   \n",
       "3  2005-11-15 00:00:00     BZ         11000            6       8659.81   \n",
       "4  2005-11-15 00:00:00     LE         15500            2        681.26   \n",
       "\n",
       "  ECO_POT_CLASS RISK_CAT  YYYYMM  ITEM_ID  FLG_TOOL SALES_CHANNEL      NET  \\\n",
       "0             D       3d  201709    12585         0             C   937.94   \n",
       "1             D       3d  201709    13431         0             C   641.09   \n",
       "2             D       3d  201709     1380         0             C     0.00   \n",
       "3             D       3d  202010     3493         1             C  1341.14   \n",
       "4             E       3d  201705     8241         0             B    64.51   \n",
       "\n",
       "  UNIT FAMILY_CODE   GROUP_CODE CANCELLED  \n",
       "0    P     XBXV2EB  XBXV2EB0102       NaN  \n",
       "1    P     XBXV2AB  XBXV2AB0102       NaN  \n",
       "2    P     XBXV2EB  XBXV2EB0102       NaN  \n",
       "3    P     XBXV1AF  XBXV1AF0201       NaN  \n",
       "4    P     XAES4AA  XAES4AA0101         X  "
      ]
     },
     "execution_count": 9,
     "metadata": {},
     "output_type": "execute_result"
    }
   ],
   "source": [
    "df_client = pd.read_csv(client)\n",
    "df_sales = pd.read_csv(sales)\n",
    "\n",
    "df = pd.merge(df_client, df_sales, on='CLIENT_ID')\n",
    "df = df.drop(['CLIENT_ID'], axis=1)\n",
    "\n",
    "df.head()"
   ]
  },
  {
   "cell_type": "code",
   "execution_count": 10,
   "metadata": {},
   "outputs": [
    {
     "name": "stdout",
     "output_type": "stream",
     "text": [
      "<class 'pandas.core.frame.DataFrame'>\n",
      "RangeIndex: 2050449 entries, 0 to 2050448\n",
      "Data columns (total 16 columns):\n",
      " #   Column              Dtype  \n",
      "---  ------              -----  \n",
      " 0   CLIENT_CREATE DATE  object \n",
      " 1   REGION              object \n",
      " 2   TRADE SECTOR        int64  \n",
      " 3   N_EMPLOYEES         int64  \n",
      " 4   ECONOMIC_POT        float64\n",
      " 5   ECO_POT_CLASS       object \n",
      " 6   RISK_CAT            object \n",
      " 7   YYYYMM              int64  \n",
      " 8   ITEM_ID             int64  \n",
      " 9   FLG_TOOL            int64  \n",
      " 10  SALES_CHANNEL       object \n",
      " 11  NET                 float64\n",
      " 12  UNIT                object \n",
      " 13  FAMILY_CODE         object \n",
      " 14  GROUP_CODE          object \n",
      " 15  CANCELLED           object \n",
      "dtypes: float64(2), int64(5), object(9)\n",
      "memory usage: 250.3+ MB\n"
     ]
    }
   ],
   "source": [
    "df.info()"
   ]
  },
  {
   "cell_type": "code",
   "execution_count": null,
   "metadata": {},
   "outputs": [],
   "source": [
    "df['CLIENT_CREATE DATE'] = pd.to_datetime(df['CLIENT_CREATE DATE'])\n",
    "df['YYYYMM'] = pd.to_datetime(df['YYYYMM'].astype(str), format='%Y%m')"
   ]
  },
  {
   "cell_type": "code",
   "execution_count": 25,
   "metadata": {},
   "outputs": [
    {
     "name": "stdout",
     "output_type": "stream",
     "text": [
      "<class 'pandas.core.frame.DataFrame'>\n",
      "RangeIndex: 2050449 entries, 0 to 2050448\n",
      "Data columns (total 16 columns):\n",
      " #   Column              Dtype         \n",
      "---  ------              -----         \n",
      " 0   CLIENT_CREATE DATE  datetime64[ns]\n",
      " 1   REGION              object        \n",
      " 2   TRADE SECTOR        int64         \n",
      " 3   N_EMPLOYEES         int64         \n",
      " 4   ECONOMIC_POT        float64       \n",
      " 5   ECO_POT_CLASS       object        \n",
      " 6   RISK_CAT            object        \n",
      " 7   YYYYMM              datetime64[ns]\n",
      " 8   ITEM_ID             int64         \n",
      " 9   FLG_TOOL            int64         \n",
      " 10  SALES_CHANNEL       object        \n",
      " 11  NET                 float64       \n",
      " 12  UNIT                object        \n",
      " 13  FAMILY_CODE         object        \n",
      " 14  GROUP_CODE          object        \n",
      " 15  CANCELLED           object        \n",
      "dtypes: datetime64[ns](2), float64(2), int64(4), object(8)\n",
      "memory usage: 250.3+ MB\n"
     ]
    }
   ],
   "source": [
    "df.info()"
   ]
  },
  {
   "cell_type": "code",
   "execution_count": null,
   "metadata": {},
   "outputs": [],
   "source": [
    "#df.to_csv('TOOL_JOINT.csv', index=False)"
   ]
  },
  {
   "cell_type": "code",
   "execution_count": null,
   "metadata": {},
   "outputs": [],
   "source": []
  }
 ],
 "metadata": {
  "kernelspec": {
   "display_name": "Python 3",
   "language": "python",
   "name": "python3"
  },
  "language_info": {
   "codemirror_mode": {
    "name": "ipython",
    "version": 3
   },
   "file_extension": ".py",
   "mimetype": "text/x-python",
   "name": "python",
   "nbconvert_exporter": "python",
   "pygments_lexer": "ipython3",
   "version": "3.9.6"
  }
 },
 "nbformat": 4,
 "nbformat_minor": 2
}
